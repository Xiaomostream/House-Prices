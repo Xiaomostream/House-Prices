{
 "cells": [
  {
   "cell_type": "code",
   "execution_count": 122,
   "metadata": {},
   "outputs": [
    {
     "name": "stdout",
     "output_type": "stream",
     "text": [
      "cuda\n"
     ]
    }
   ],
   "source": [
    "%matplotlib inline\n",
    "import matplotlib\n",
    "import matplotlib.pyplot as plt\n",
    "import numpy\n",
    "import torch\n",
    "import pandas\n",
    "import os\n",
    "from torch import nn\n",
    "device = torch.device(\"cuda\" if torch.cuda.is_available() else \"cpu\")\n",
    "print(device)"
   ]
  },
  {
   "cell_type": "markdown",
   "metadata": {},
   "source": [
    "# 1.预处理数据\n",
    "## 读取数据"
   ]
  },
  {
   "cell_type": "code",
   "execution_count": 123,
   "metadata": {},
   "outputs": [
    {
     "name": "stdout",
     "output_type": "stream",
     "text": [
      "(1460, 81) (1459, 80)\n",
      "(2919, 79)\n",
      "   Id  MSSubClass MSZoning  LotFrontage  LotArea Street Alley LotShape\n",
      "0   1          60       RL         65.0     8450   Pave   NaN      Reg\n",
      "1   2          20       RL         80.0     9600   Pave   NaN      Reg\n",
      "2   3          60       RL         68.0    11250   Pave   NaN      IR1\n",
      "3   4          70       RL         60.0     9550   Pave   NaN      IR1\n",
      "4   5          60       RL         84.0    14260   Pave   NaN      IR1\n"
     ]
    }
   ],
   "source": [
    "# 读取CSV文件\n",
    "# train.csv有价格，test.csv没有价格\n",
    "train_data = pandas.read_csv(\"train.csv\")\n",
    "test_data = pandas.read_csv(\"test.csv\")\n",
    "\n",
    "print(train_data.shape,test_data.shape)\n",
    "\n",
    "# 去掉第一列id的数据，目的是为了防止模型记住编号得到对应价格\n",
    "all_features = pandas.concat((train_data.iloc[:,1:-1], test_data.iloc[:,1:-1]))\n",
    "print(all_features.shape)\n",
    "\n",
    "print(train_data.iloc[:5,:8])"
   ]
  },
  {
   "cell_type": "markdown",
   "metadata": {},
   "source": [
    "## 处理缺少值和属性"
   ]
  },
  {
   "cell_type": "code",
   "execution_count": 124,
   "metadata": {},
   "outputs": [
    {
     "name": "stdout",
     "output_type": "stream",
     "text": [
      "all_features.shape: (2919, 331)\n"
     ]
    }
   ],
   "source": [
    "\n",
    "#提取全是数字的特征名字\n",
    "numeric_features = all_features.dtypes[all_features.dtypes != 'object'].index\n",
    "\n",
    "#对数据做标准化处理,对应位置赋值\n",
    "all_features[numeric_features] = all_features[numeric_features].apply(lambda x: (x - x.mean()) / (x.std()))\n",
    "#这一部分定义了一个匿名函数（lambda 函数），它接受一个参数x 。在这里x代表正在处理的 DataFrame 的每一列。 \n",
    "\n",
    "# 在标准化数据之后，将缺失值设置为0\n",
    "all_features[numeric_features] = all_features[numeric_features].fillna(0)\n",
    "\n",
    "#`Dummy_na=True` 将“na”（缺失值）视为有效的特征值，并为其创建指示符特征。\n",
    "\n",
    "# pandas.get_dummies把特征为类别值或离散值分成每一个特征为一个类别。\n",
    "all_features = pandas.get_dummies(all_features, dummy_na = True)\n",
    "print(\"all_features.shape:\",all_features.shape)\n"
   ]
  },
  {
   "cell_type": "markdown",
   "metadata": {},
   "source": [
    "### apply()  方法： \n",
    "-  apply()  方法是 pandas 中的一个函数，用于沿着 DataFrame 或 Series 的某个轴应用一个函数。可以通过  axis  参数指定是按行（1）还是按列（0）应用函数。 \n",
    "- 在这个例子中， apply()  被用于处理一个包含数值特征的 DataFrame，并将给定的 lambda 函数应用于每一列（默认情况下，apply() 是按列处理的）。 \n",
    "### pandas.getdummies\n",
    "### 示例： \n",
    "假设  all_features  中有一列  Color ，其值如下：\n",
    "\n",
    "```\n",
    "| Color   |\n",
    "|---------|\n",
    "| Red     |\n",
    "| Blue    |\n",
    "| Green   |\n",
    "| NaN     |\n",
    "```\n",
    "执行  pandas.get_dummies(all_features, dummy_na=True)  后，结果可能是：\n",
    "```\n",
    "| Color_Blue | Color_Green | Color_Red | Color_nan |\n",
    "|-------------|--------------|------------|-----------|\n",
    "| 0           | 0            | 1          | 0         |\n",
    "| 1           | 0            | 0          | 0         |\n",
    "| 0           | 1            | 0          | 0         |\n",
    "| 0           | 0            | 0          | 1         |\n",
    "```\n",
    "在这个结果中，每个颜色值都被转换为一个新的列，不同的颜色对应的列中填入1或0，表示该行数据是否属于该颜色。同时，缺失值（NaN）也被转化为  Color_nan  列，表示该行数据是否存在缺失值。这样处理后的数据就可以直接用于机器学习模型的训练。"
   ]
  },
  {
   "cell_type": "markdown",
   "metadata": {},
   "source": [
    "## 分成训练集与测试集"
   ]
  },
  {
   "cell_type": "code",
   "execution_count": 125,
   "metadata": {},
   "outputs": [
    {
     "name": "stdout",
     "output_type": "stream",
     "text": [
      "torch.Size([1460, 331]) torch.Size([1459, 331]) torch.Size([1460, 1])\n"
     ]
    }
   ],
   "source": [
    "n_train = train_data.shape[0]\n",
    "# 前n_train行作为训练集\n",
    "train_features = torch.tensor(all_features[:n_train].values, dtype = torch.float32)\n",
    "test_features = torch.tensor(all_features[n_train:].values, dtype = torch.float32)\n",
    "# 把train.data价格一列作为训练集的标签，并reshape为一列的tensor\n",
    "train_labels = torch.tensor(train_data.SalePrice.values.reshape(-1, 1), dtype = torch.float32)\n",
    "print(train_features.shape, test_features.shape, train_labels.shape)"
   ]
  },
  {
   "cell_type": "markdown",
   "metadata": {},
   "source": [
    "## 数据分批"
   ]
  },
  {
   "cell_type": "code",
   "execution_count": 126,
   "metadata": {},
   "outputs": [
    {
     "name": "stdout",
     "output_type": "stream",
     "text": [
      "每一批16个，一共92批\n"
     ]
    }
   ],
   "source": [
    "#数据分批\n",
    "batch_size = 16\n",
    "dataset = torch.utils.data.TensorDataset(train_features, train_labels)\n",
    "train_loader = torch.utils.data.DataLoader(dataset,                   # 数据\n",
    "                                          batch_size = batch_size,    # 每个batch大小\n",
    "                                          shuffle = True,             # 是否打乱数据\n",
    "                                          num_workers = 0,            # 工作线程\n",
    "                                          pin_memory = True)\n",
    "print(f\"每一批{len(next(iter(train_loader))[0])}个，一共{len(train_loader)}批\")"
   ]
  },
  {
   "cell_type": "markdown",
   "metadata": {},
   "source": [
    "# 2.模型训练\n",
    "\n",
    "## 定义神经网络"
   ]
  },
  {
   "cell_type": "code",
   "execution_count": 127,
   "metadata": {},
   "outputs": [],
   "source": [
    "class MyNet(nn.Module):\n",
    "    def __init__(self, in_put, hidden1, hidden2, hidden3, out_put):\n",
    "        super().__init__()\n",
    "        self.linear1 = nn.Linear(in_put, hidden1)\n",
    "        self.linear2 = nn.Linear(hidden1, hidden2)\n",
    "        self.linear3 = nn.Linear(hidden2, hidden3)\n",
    "        self.linear4 = nn.Linear(hidden3, out_put)\n",
    "    def forward(self, data):\n",
    "        x  = self.linear1(data)\n",
    "        x = torch.relu(x)\n",
    "        x = self.linear2(x)\n",
    "        x = torch.relu(x)\n",
    "        x = self.linear3(x)\n",
    "        x = torch.relu(x)\n",
    "        x = self.linear4(x)\n",
    "        return x"
   ]
  },
  {
   "cell_type": "markdown",
   "metadata": {},
   "source": [
    "## 初始化神经网络"
   ]
  },
  {
   "cell_type": "code",
   "execution_count": 128,
   "metadata": {},
   "outputs": [],
   "source": [
    "# 输入特征个数为训练集的列的个数\n",
    "in_put = train_features.shape[1]\n",
    "hidden1 , hidden2, hidden3, out_put = 256, 128, 16, 1\n",
    "model = MyNet(in_put, hidden1, hidden2, hidden3, out_put).to(device)\n",
    "\n",
    "# batch_size = 32, loss = MSELoss 0.17\n",
    "# batch_size = 32, loss = L1Loss 0.15\n",
    "# batch_size = 16, loss = MSELoss 0.16\n",
    "# batch_size = 16, loss = L1loss 0.15\n",
    "loss = nn.L1Loss()\n",
    "lr = 1e-2\n",
    "optimizer = torch.optim.Adam(model.parameters(), lr)"
   ]
  },
  {
   "cell_type": "code",
   "execution_count": 129,
   "metadata": {},
   "outputs": [
    {
     "name": "stdout",
     "output_type": "stream",
     "text": [
      "MyNet(\n",
      "  (linear1): Linear(in_features=331, out_features=256, bias=True)\n",
      "  (linear2): Linear(in_features=256, out_features=128, bias=True)\n",
      "  (linear3): Linear(in_features=128, out_features=16, bias=True)\n",
      "  (linear4): Linear(in_features=16, out_features=1, bias=True)\n",
      ")\n"
     ]
    }
   ],
   "source": [
    "print(model)"
   ]
  },
  {
   "cell_type": "code",
   "execution_count": 130,
   "metadata": {},
   "outputs": [
    {
     "data": {
      "image/png": "[encoded data removed]",
      "text/plain": [
       "<Figure size 640x480 with 1 Axes>"
      ]
     },
     "metadata": {},
     "output_type": "display_data"
    }
   ],
   "source": [
    "epochs = 200\n",
    "def train(train_loader):\n",
    "    train_ls = []\n",
    "    for epoch in range(epochs):\n",
    "        loss_sum = 0\n",
    "        for train_batch, labels_batch in train_loader:\n",
    "            train_batch, labels_batch = train_batch.to(device), labels_batch.to(device)\n",
    "            #preds = torch.clamp(model(train_batch), 1, float('inf'))\n",
    "            #l = loss(torch.log(preds), torch.log(labels_batch))\n",
    "            l = loss(model(train_batch),labels_batch)\n",
    "            optimizer.zero_grad()\n",
    "            l.backward()\n",
    "            optimizer.step()\n",
    "            loss_sum += l.item()\n",
    "        train_ls.append(loss_sum)\n",
    "    plt.plot(range(epochs), train_ls)\n",
    "    plt.show()\n",
    "train(train_loader)"
   ]
  },
  {
   "cell_type": "code",
   "execution_count": 131,
   "metadata": {},
   "outputs": [
    {
     "name": "stdout",
     "output_type": "stream",
     "text": [
      "(1459, 1) (1459,)\n"
     ]
    }
   ],
   "source": [
    "def test(test_features):\n",
    "    test_features = test_features.to(device)\n",
    "    # 将计算图从当前张量中分离，防止在后续操作中计算梯度，并将tensor转换为numpy数组\n",
    "    preds = model(test_features).detach().to(\"cpu\").numpy()\n",
    "    # squeeze()方法用于去除数组中维度为1的维度\n",
    "    print(preds.shape, preds.squeeze().shape)\n",
    "      \n",
    "    #pandas.Series 创建新维度\n",
    "    test_data['SalePrice'] = pandas.Series(preds.squeeze())\n",
    "    \n",
    "    #axis选择拼接的维度\n",
    "    return pandas.concat([test_data['Id'], test_data['SalePrice']], axis = 1)\n",
    "submission = test(test_features)\n",
    "submission.to_csv('submission.csv', index=False)"
   ]
  },
  {
   "cell_type": "code",
   "execution_count": null,
   "metadata": {},
   "outputs": [],
   "source": []
  }
 ],
 "metadata": {
  "kernelspec": {
   "display_name": "pytorch38",
   "language": "python",
   "name": "python3"
  },
  "language_info": {
   "codemirror_mode": {
    "name": "ipython",
    "version": 3
   },
   "file_extension": ".py",
   "mimetype": "text/x-python",
   "name": "python",
   "nbconvert_exporter": "python",
   "pygments_lexer": "ipython3",
   "version": "3.8.19"
  }
 },
 "nbformat": 4,
 "nbformat_minor": 2
}
